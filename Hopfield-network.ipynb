{
 "cells": [
  {
   "cell_type": "markdown",
   "metadata": {},
   "source": [
    "# Discrete Hopfield neural network"
   ]
  },
  {
   "cell_type": "code",
   "execution_count": 129,
   "metadata": {},
   "outputs": [],
   "source": [
    "import numpy as np"
   ]
  },
  {
   "cell_type": "code",
   "execution_count": 130,
   "metadata": {},
   "outputs": [],
   "source": [
    "def hebbian_weights(a):\n",
    "    weights=np.zeros((input_pattern.shape[1],input_pattern.shape[1]))\n",
    "    for i in a:\n",
    "        weights=weights+np.outer(i,i)\n",
    "    np.fill_diagonal(weights, 0)\n",
    "    return weights"
   ]
  },
  {
   "cell_type": "code",
   "execution_count": 131,
   "metadata": {},
   "outputs": [],
   "source": [
    "def transfer_function(newy,theta):\n",
    "    if newy>theta:\n",
    "        return 1\n",
    "    if newy==theta:\n",
    "        return newy\n",
    "    else:\n",
    "        return 0"
   ]
  },
  {
   "cell_type": "code",
   "execution_count": 132,
   "metadata": {},
   "outputs": [],
   "source": [
    "def activation_update(y,w,x,order):\n",
    "    newy=x+np.sum((y*(w[:,order])))\n",
    "    return newy "
   ]
  },
  {
   "cell_type": "code",
   "execution_count": 141,
   "metadata": {},
   "outputs": [],
   "source": [
    "order=[0,3,1,2]\n",
    "att=[]\n",
    "input_pattern=np.array([[1,-1,1,1],[1,1,1,-1]])\n",
    "w=hebbian_weights(input_pattern)\n",
    "x=np.array([[0,0,0,0],[0,0,0,1],[0,0,1,0],[0,0,1,1],[0,1,0,0],[0,1,0,1],[0,1,1,0],[0,1,1,1],[1,0,0,0],[1,0,0,1],[1,0,1,0],[1,0,1,1],[1,1,0,0],[1,1,0,1],[1,1,1,0],[1,1,1,1]])\n",
    "for test in x:\n",
    "    y=np.copy(test)\n",
    "    flag=0\n",
    "    count=0\n",
    "    while flag==0:\n",
    "        for i in order:\n",
    "            old=np.copy(y)\n",
    "            newy=activation_update(y,w,y[i],i)\n",
    "            y[i]=transfer_function(newy,0)\n",
    "            if np.array_equal(old,y):\n",
    "                count=count+1\n",
    "            if count==input_pattern.shape[1]:\n",
    "                flag=1\n",
    "    att.append([test,y])"
   ]
  },
  {
   "cell_type": "markdown",
   "metadata": {},
   "source": [
    "## 1. What is the weight matrix according to Hebbian learning? Make sure you zero out the self connections."
   ]
  },
  {
   "cell_type": "code",
   "execution_count": 142,
   "metadata": {},
   "outputs": [
    {
     "data": {
      "text/plain": [
       "array([[ 0.,  0.,  2.,  0.],\n",
       "       [ 0.,  0.,  0., -2.],\n",
       "       [ 2.,  0.,  0.,  0.],\n",
       "       [ 0., -2.,  0.,  0.]])"
      ]
     },
     "execution_count": 142,
     "metadata": {},
     "output_type": "execute_result"
    }
   ],
   "source": [
    "w=hebbian_weights(input_pattern)\n",
    "w"
   ]
  },
  {
   "cell_type": "markdown",
   "metadata": {},
   "source": [
    "### -------------------------------------------------------------------------------------------"
   ]
  },
  {
   "cell_type": "markdown",
   "metadata": {},
   "source": [
    "## 2. What is the total number of states (vectors) in the configuration space?"
   ]
  },
  {
   "cell_type": "code",
   "execution_count": 143,
   "metadata": {},
   "outputs": [
    {
     "data": {
      "text/plain": [
       "16"
      ]
     },
     "execution_count": 143,
     "metadata": {},
     "output_type": "execute_result"
    }
   ],
   "source": [
    "#there are 16 possible state by varying vectors positions\n",
    "len(x)"
   ]
  },
  {
   "cell_type": "markdown",
   "metadata": {},
   "source": [
    "### -------------------------------------------------------------------------------------------"
   ]
  },
  {
   "cell_type": "markdown",
   "metadata": {},
   "source": [
    "## 3. For each vector in the configuration space, feed it into the neural network, and find the vector that it converges to. Always cycle through the neurons in the following order: X1, X4, X2, and X3, until convergence."
   ]
  },
  {
   "cell_type": "markdown",
   "metadata": {},
   "source": [
    "Done via Code Above"
   ]
  },
  {
   "cell_type": "markdown",
   "metadata": {},
   "source": [
    "### -------------------------------------------------------------------------------------------"
   ]
  },
  {
   "cell_type": "markdown",
   "metadata": {},
   "source": [
    "## 4. For each of the two stored vectors, find the size of the basin of attraction ( the number of states that converge to the stored pattern)."
   ]
  },
  {
   "cell_type": "code",
   "execution_count": 144,
   "metadata": {},
   "outputs": [
    {
     "data": {
      "text/html": [
       "<div>\n",
       "<style scoped>\n",
       "    .dataframe tbody tr th:only-of-type {\n",
       "        vertical-align: middle;\n",
       "    }\n",
       "\n",
       "    .dataframe tbody tr th {\n",
       "        vertical-align: top;\n",
       "    }\n",
       "\n",
       "    .dataframe thead th {\n",
       "        text-align: right;\n",
       "    }\n",
       "</style>\n",
       "<table border=\"1\" class=\"dataframe\">\n",
       "  <thead>\n",
       "    <tr style=\"text-align: right;\">\n",
       "      <th></th>\n",
       "      <th>Test Patttern</th>\n",
       "      <th>Converged to</th>\n",
       "    </tr>\n",
       "  </thead>\n",
       "  <tbody>\n",
       "    <tr>\n",
       "      <th>0</th>\n",
       "      <td>[0, 0, 0, 0]</td>\n",
       "      <td>[0, 0, 0, 0]</td>\n",
       "    </tr>\n",
       "    <tr>\n",
       "      <th>1</th>\n",
       "      <td>[0, 0, 0, 1]</td>\n",
       "      <td>[0, 0, 0, 1]</td>\n",
       "    </tr>\n",
       "    <tr>\n",
       "      <th>2</th>\n",
       "      <td>[0, 0, 1, 0]</td>\n",
       "      <td>[1, 0, 1, 0]</td>\n",
       "    </tr>\n",
       "    <tr>\n",
       "      <th>3</th>\n",
       "      <td>[0, 0, 1, 1]</td>\n",
       "      <td>[1, 0, 1, 1]</td>\n",
       "    </tr>\n",
       "    <tr>\n",
       "      <th>4</th>\n",
       "      <td>[0, 1, 0, 0]</td>\n",
       "      <td>[0, 1, 0, 0]</td>\n",
       "    </tr>\n",
       "    <tr>\n",
       "      <th>5</th>\n",
       "      <td>[0, 1, 0, 1]</td>\n",
       "      <td>[0, 1, 0, 0]</td>\n",
       "    </tr>\n",
       "    <tr>\n",
       "      <th>6</th>\n",
       "      <td>[0, 1, 1, 0]</td>\n",
       "      <td>[1, 1, 1, 0]</td>\n",
       "    </tr>\n",
       "    <tr>\n",
       "      <th>7</th>\n",
       "      <td>[0, 1, 1, 1]</td>\n",
       "      <td>[1, 1, 1, 0]</td>\n",
       "    </tr>\n",
       "    <tr>\n",
       "      <th>8</th>\n",
       "      <td>[1, 0, 0, 0]</td>\n",
       "      <td>[1, 0, 1, 0]</td>\n",
       "    </tr>\n",
       "    <tr>\n",
       "      <th>9</th>\n",
       "      <td>[1, 0, 0, 1]</td>\n",
       "      <td>[1, 0, 1, 1]</td>\n",
       "    </tr>\n",
       "    <tr>\n",
       "      <th>10</th>\n",
       "      <td>[1, 0, 1, 0]</td>\n",
       "      <td>[1, 0, 1, 0]</td>\n",
       "    </tr>\n",
       "    <tr>\n",
       "      <th>11</th>\n",
       "      <td>[1, 0, 1, 1]</td>\n",
       "      <td>[1, 0, 1, 1]</td>\n",
       "    </tr>\n",
       "    <tr>\n",
       "      <th>12</th>\n",
       "      <td>[1, 1, 0, 0]</td>\n",
       "      <td>[1, 1, 1, 0]</td>\n",
       "    </tr>\n",
       "    <tr>\n",
       "      <th>13</th>\n",
       "      <td>[1, 1, 0, 1]</td>\n",
       "      <td>[1, 1, 1, 0]</td>\n",
       "    </tr>\n",
       "    <tr>\n",
       "      <th>14</th>\n",
       "      <td>[1, 1, 1, 0]</td>\n",
       "      <td>[1, 1, 1, 0]</td>\n",
       "    </tr>\n",
       "    <tr>\n",
       "      <th>15</th>\n",
       "      <td>[1, 1, 1, 1]</td>\n",
       "      <td>[1, 1, 1, 0]</td>\n",
       "    </tr>\n",
       "  </tbody>\n",
       "</table>\n",
       "</div>"
      ],
      "text/plain": [
       "   Test Patttern  Converged to\n",
       "0   [0, 0, 0, 0]  [0, 0, 0, 0]\n",
       "1   [0, 0, 0, 1]  [0, 0, 0, 1]\n",
       "2   [0, 0, 1, 0]  [1, 0, 1, 0]\n",
       "3   [0, 0, 1, 1]  [1, 0, 1, 1]\n",
       "4   [0, 1, 0, 0]  [0, 1, 0, 0]\n",
       "5   [0, 1, 0, 1]  [0, 1, 0, 0]\n",
       "6   [0, 1, 1, 0]  [1, 1, 1, 0]\n",
       "7   [0, 1, 1, 1]  [1, 1, 1, 0]\n",
       "8   [1, 0, 0, 0]  [1, 0, 1, 0]\n",
       "9   [1, 0, 0, 1]  [1, 0, 1, 1]\n",
       "10  [1, 0, 1, 0]  [1, 0, 1, 0]\n",
       "11  [1, 0, 1, 1]  [1, 0, 1, 1]\n",
       "12  [1, 1, 0, 0]  [1, 1, 1, 0]\n",
       "13  [1, 1, 0, 1]  [1, 1, 1, 0]\n",
       "14  [1, 1, 1, 0]  [1, 1, 1, 0]\n",
       "15  [1, 1, 1, 1]  [1, 1, 1, 0]"
      ]
     },
     "execution_count": 144,
     "metadata": {},
     "output_type": "execute_result"
    }
   ],
   "source": [
    "import pandas as pd\n",
    "df=pd.DataFrame(att,columns=['Test Patttern','Converged to'])\n",
    "df"
   ]
  },
  {
   "cell_type": "code",
   "execution_count": null,
   "metadata": {},
   "outputs": [],
   "source": []
  },
  {
   "cell_type": "code",
   "execution_count": null,
   "metadata": {},
   "outputs": [],
   "source": []
  },
  {
   "cell_type": "markdown",
   "metadata": {},
   "source": [
    " ***1. We can see pattern converged to [1,1,1,0] are 6 in number***\n",
    "\n",
    "So the size of the basin of attraction for the pattern [1,1,1,0] is 6\n",
    "\n",
    "***2. We can see pattern converged to [1,0,1,1] are 3 in number***\n",
    "\n",
    "So the size of the basin of attraction for the pattern [1,0,1,1] is 3"
   ]
  },
  {
   "cell_type": "markdown",
   "metadata": {},
   "source": [
    "### -------------------------------------------------------------------------------------------"
   ]
  },
  {
   "cell_type": "markdown",
   "metadata": {},
   "source": [
    "## 5. How many spurious patterns are there? For each such pattern, give the size of the basin of attraction."
   ]
  },
  {
   "cell_type": "markdown",
   "metadata": {},
   "source": [
    "***Spurious patterns are***"
   ]
  },
  {
   "cell_type": "markdown",
   "metadata": {},
   "source": [
    "[0,0,0,0]     \n",
    "\n",
    "[0,0,0,1]     \n",
    "\n",
    "[1,0,1,0]     \n",
    "\n",
    "[0,1,0,0]"
   ]
  },
  {
   "cell_type": "markdown",
   "metadata": {},
   "source": [
    "***The size of the basin of attraction for spurious patterns are***"
   ]
  },
  {
   "cell_type": "markdown",
   "metadata": {},
   "source": [
    "Pattern:  --->   Count\n",
    "\n",
    "[0,0,0,0] --->      1\n",
    "\n",
    "[0,0,0,1]  --->    1\n",
    "\n",
    "[1,0,1,0]   --->   3\n",
    "\n",
    "[0,1,0,0]    --->  2"
   ]
  }
 ],
 "metadata": {
  "kernelspec": {
   "display_name": "Python 3",
   "language": "python",
   "name": "python3"
  },
  "language_info": {
   "codemirror_mode": {
    "name": "ipython",
    "version": 3
   },
   "file_extension": ".py",
   "mimetype": "text/x-python",
   "name": "python",
   "nbconvert_exporter": "python",
   "pygments_lexer": "ipython3",
   "version": "3.7.4"
  }
 },
 "nbformat": 4,
 "nbformat_minor": 2
}